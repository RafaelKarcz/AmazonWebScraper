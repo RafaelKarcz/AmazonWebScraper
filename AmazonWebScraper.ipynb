{
 "cells": [
  {
   "cell_type": "code",
   "execution_count": null,
   "id": "2443caca-fa99-481a-b1cf-8af8cbd6844b",
   "metadata": {},
   "outputs": [],
   "source": [
    "# Import necessary libraries\n",
    "from bs4 import BeautifulSoup\n",
    "import requests\n",
    "import smtplib\n",
    "import time\n",
    "import datetime\n",
    "import pandas as pd\n",
    "import csv"
   ]
  },
  {
   "cell_type": "code",
   "execution_count": 1,
   "id": "c0767054-6ca3-4513-b16c-f1abb075e938",
   "metadata": {},
   "outputs": [],
   "source": [
    "# URL of the Amazon product page\n",
    "URL = 'https://www.amazon.com/Funny-Data-Systems-Business-Analyst/dp/B07FNW9FGJ'\n",
    "\n",
    "# Headers for HTTP request to simulate a browser visit\n",
    "# Use https://httpbin.org/get and adjust this section to your own computer\n",
    "headers = {\n",
    "    \"User-Agent\": \"Mozilla/5.0 (X11; Linux x86_64) AppleWebKit/537.36 (KHTML, like Gecko) Chrome/124.0.0.0 Safari/537.36\",\n",
    "    \"Accept-Encoding\": \"gzip, deflate, br\",\n",
    "    \"Accept\": \"text/html,application/xhtml+xml,application/xml;q=0.9,image/webp,*/*;q=0.8\",\n",
    "    \"Upgrade-Insecure-Requests\": \"1\"\n",
    "}"
   ]
  },
  {
   "cell_type": "code",
   "execution_count": null,
   "id": "3cfbc30d-a50d-4e8f-b222-95f662908b7e",
   "metadata": {},
   "outputs": [],
   "source": [
    "# Function to scrape data\n",
    "def scrape_data():\n",
    "    response = requests.get(URL, headers=headers)\n",
    "    soup = BeautifulSoup(response.content, 'html.parser')\n",
    "    prettified_soup = BeautifulSoup(soup.prettify(), 'html.parser')\n",
    "\n",
    "    title = prettified_soup.find(id='productTitle').get_text(strip=True)\n",
    "    price_whole = prettified_soup.find('span', class_='a-price-whole').get_text(strip=True).replace('.', '')\n",
    "    price_fraction = prettified_soup.find('span', class_='a-price-fraction').get_text(strip=True)\n",
    "    price = f\"{price_whole}.{price_fraction}\"\n",
    "    rating = prettified_soup.find('span', class_='a-icon-alt').get_text().split(' ')[0]\n",
    "    review_count = ''.join(filter(str.isdigit, prettified_soup.find('span', id='acrCustomerReviewText').get_text(strip=True)))\n",
    "\n",
    "    return [title, price, rating, review_count, datetime.date.today()]"
   ]
  },
  {
   "cell_type": "code",
   "execution_count": null,
   "id": "3dee8c06-fd8c-40bb-b843-f2179c7b4b10",
   "metadata": {},
   "outputs": [],
   "source": [
    "# Path to CSV file (ensure this is changed to your path)\n",
    "csv_file_path = '/path/to/your/AmazonWebScraperDataset.csv'"
   ]
  },
  {
   "cell_type": "code",
   "execution_count": null,
   "id": "5ce30e33-e278-4b80-bbd7-4d3cdc892338",
   "metadata": {},
   "outputs": [],
   "source": [
    "# Function to write data to CSV\n",
    "def write_to_csv(data):\n",
    "    with open(csv_file_path, 'a+', newline='', encoding='UTF8') as f:\n",
    "        writer = csv.writer(f)\n",
    "        writer.writerow(data)"
   ]
  },
  {
   "cell_type": "code",
   "execution_count": null,
   "id": "a8f826e3-aaed-4377-b0f5-6dfb2f16ee24",
   "metadata": {},
   "outputs": [],
   "source": [
    "# Function to send email alert\n",
    "def send_mail():\n",
    "    server = smtplib.SMTP_SSL('smtp.gmail.com', 465)\n",
    "    server.ehlo()\n",
    "    server.login('your-email@gmail.com', 'your-password')\n",
    "    subject = \"The Shirt you want is below $15! Now is your chance to buy!\"\n",
    "    body = (\"This is the moment we have been waiting for. Now is your chance to pick up the shirt of your dreams. \"\n",
    "            \"Don't mess it up! Link here: \" + URL)\n",
    "    msg = f\"Subject: {subject}\\n\\n{body}\"\n",
    "    server.sendmail('your-email@gmail.com', 'your-email@gmail.com', msg)\n",
    "    server.quit()"
   ]
  },
  {
   "cell_type": "code",
   "execution_count": null,
   "id": "71865d08-78ca-44df-9c0c-09243dcdc60b",
   "metadata": {},
   "outputs": [],
   "source": [
    "# Check price and send email if under threshold\n",
    "def check_price():\n",
    "    data = scrape_data()\n",
    "    write_to_csv(data)\n",
    "    if float(data[1]) < 15:\n",
    "        send_mail()"
   ]
  },
  {
   "cell_type": "code",
   "execution_count": null,
   "id": "e37a0db1-e2ca-47f8-80c0-e56f1446cfac",
   "metadata": {},
   "outputs": [],
   "source": [
    "# Scheduler to run the check daily\n",
    "while True:\n",
    "    check_price()\n",
    "    time.sleep(86400)  # Sleep for 24h"
   ]
  }
 ],
 "metadata": {
  "kernelspec": {
   "display_name": "Python 3 (ipykernel)",
   "language": "python",
   "name": "python3"
  },
  "language_info": {
   "codemirror_mode": {
    "name": "ipython",
    "version": 3
   },
   "file_extension": ".py",
   "mimetype": "text/x-python",
   "name": "python",
   "nbconvert_exporter": "python",
   "pygments_lexer": "ipython3",
   "version": "3.11.9"
  }
 },
 "nbformat": 4,
 "nbformat_minor": 5
}
